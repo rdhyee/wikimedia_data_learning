{
 "cells": [
  {
   "cell_type": "markdown",
   "metadata": {},
   "source": [
    "author: Raymond Yee ([@rdhyee](https://twitter.com/rdhyee)) <br/>\n",
    "last edit: 2015.05.31"
   ]
  },
  {
   "cell_type": "markdown",
   "metadata": {},
   "source": [
    "# Why Care about Quarry?\n",
    "\n",
    "After expending considerable effort using the Wikipedia API to assemble a database of user edit metadata in support of the work reported \"[Gender Differences in Wikipedia Editing](https://dl.acm.org/citation.cfm?doid=2038558.2038561)\" (a [prize-winning short paper](http://www.wikisym.org/2011/09/21/best-paper-winners-for-wikisym-2011/comment-page-1/) for [WikiSym 2011](http://www.wikisym.org/ws2011/start.html)), I've been long intrigued by having direct access to the database behind Wikipedia.  With direct database access, there would no need to accumulate data by polling the API, a laborious and error-prone process used for the paper.   Just [sign up for an account](https://wikitech.wikimedia.org/wiki/Help:Getting_Started#Create_a_User_Account) on [Wikimedia Labs](https://wikitech.wikimedia.org/wiki/Help:FAQ#What_is_Wikimedia_Labs.3F), and [connect to the live database replicas](https://wikitech.wikimedia.org/wiki/Help:Tool_Labs/Database#Connecting_to_the_database_replicas).  It helps to understand the [Mediawiki database layout](https://www.mediawiki.org/wiki/Manual:Database_layout) and to study [example MySQL queries that can be run on the replicas](https://wikitech.wikimedia.org/wiki/Nova_Resource:Tools/Shared_Resources/MySQL_queries).  Undoubtedly, there is a learning curve; there's lot of documentation out there but I've found it a chore to make sense of it all.  (If you get confused, don't forget to ask for help on the [Labs-l Mailing List](https://lists.wikimedia.org/mailman/listinfo/labs-l) or the [wikimedia labs IRC channel](https://webchat.freenode.net/?channels=#wikimedia-labs).\n",
    "\n",
    "In my self-education about the Wikipedia databases, I've been particularly happy to find [Quarry](http://quarry.wmflabs.org), a web application (currently in beta), that allows one to \"[r]un SQL queries against Wikipedia & other databases from your browser\".  You can run SQL queries and see the results in the browser, download results, and also easily share your queries and results with others. You can also see what queries other people have run, from which you can presumably learn much.  (Finally, you don't need a shell account on Wikimedia Labs to use the service.)\n",
    "\n",
    "I've been enjoying Quarry a lot, but wanted to integrated its functionality with other software.  Specifically, I wanted to integrate work I'm doing on Quarry with the [IPython/Jupyter notebook](https://en.wikipedia.org/wiki/IPython). To begin with, it'd be convenient to be able to programmatically access the output from queries. It turns out that you can make use of an implicit Quarry API to read not only the output data of a query but associated metadata, including the query SQL itself, the author, title, and date of execution.  Some things I describe here:\n",
    "\n",
    "* What queries have I made at Quarry?  \n",
    "* Specifically, can one get at which ones are published and drafts?  \n",
    "* Can one get data on specific runs?  \n",
    "* What queries are starred?\n",
    "\n",
    "As I began to write integration with Quarry and surface my own work on Quarry, I then start to explore the question of what other people are doing on Quarry.  Such questions as:\n",
    "\n",
    "* What users are there?  Can I get the same info for those folks?\n",
    "* What popular queries are there?\n",
    "* Can we understand the flow of use -- are people learning from each other?\n",
    "\n",
    "This notebook shows some preliminary work in that area.\n",
    "\n",
    "## How to learn more about Quarry\n",
    "\n",
    "BTW, don't miss the [main documentation page for Quarry](https://meta.wikimedia.org/wiki/Research:Quarry) and [three-part Wikiresearch webinar series](https://meta.wikimedia.org/wiki/Grants:Evaluation/Wikiresearch_webinars), which includes videos ( [1](https://www.youtube.com/watch?v=IjvZJ6joQD4#t=12), [2](https://www.youtube.com/watch?v=V5Te4_mQq8Y), [3](https://www.youtube.com/watch?v=CcNoDplKqTc)) with some coverage on using Quarry.)"
   ]
  },
  {
   "cell_type": "markdown",
   "metadata": {},
   "source": [
    "# Python imports"
   ]
  },
  {
   "cell_type": "code",
   "execution_count": 1,
   "metadata": {
    "collapsed": false
   },
   "outputs": [],
   "source": [
    "%matplotlib inline"
   ]
  },
  {
   "cell_type": "code",
   "execution_count": 2,
   "metadata": {
    "collapsed": true
   },
   "outputs": [],
   "source": [
    "from __future__ import print_function"
   ]
  },
  {
   "cell_type": "code",
   "execution_count": 3,
   "metadata": {
    "collapsed": false
   },
   "outputs": [],
   "source": [
    "import datetime\n",
    "from itertools import (islice, chain)\n",
    "import re\n",
    "import time\n",
    "from collections import (Counter, OrderedDict)\n",
    "\n",
    "# writing for eventual Python 2/3 compatability \n",
    "\n",
    "try:\n",
    "    from urllib.parse import urlencode\n",
    "except ImportError:\n",
    "    from urllib import urlencode\n",
    "        \n",
    "import requests\n",
    "\n",
    "from lxml.html import fromstring, parse\n",
    "\n",
    "import matplotlib.pyplot as plt\n",
    "from pandas import (DataFrame, Series)\n",
    "\n",
    "from IPython.display import (display, HTML, Markdown)"
   ]
  },
  {
   "cell_type": "markdown",
   "metadata": {},
   "source": [
    "# Working with results from a specific query"
   ]
  },
  {
   "cell_type": "markdown",
   "metadata": {},
   "source": [
    "As a [big fan of the music of J. S. Bach](https://web.archive.org/web/20030414021116/http://iu.berkeley.edu/rdhyee/cosmicbach), I'm also very interested in the history of the [English Wikipedia page for Johann Sebastian Bach](https://en.wikipedia.org/wiki/Johann_Sebastian_Bach). How did the article develop over the years?  When was it most actively edited?\n",
    "\n",
    "For a simple question to answer using Quarry, I wanted to compute [the number of revisions by year for Johann_Sebastian_Bach in enwiki](http://quarry.wmflabs.org/query/3659).  \n",
    "\n",
    "The easiest workflow with which to begin is to refine a query on Quarry and then [download the resultset](https://meta.wikimedia.org/wiki/Research:Quarry#Downloading_a_resultset).   That is, for a recent run, I could analyze the output by first downloading the JSON-formatted data from <http://quarry.wmflabs.org/run/24183/output/0/json?download=true>.  But if I were to run the query again, the URL for the output changes again because the run number changes.\n",
    "\n",
    "\n"
   ]
  },
  {
   "cell_type": "markdown",
   "metadata": {},
   "source": [
    "## A Python function to download information about a Quarry query\n",
    "\n",
    "For the purposes of analyzing the output from queries in Quarry, instead of manually downloading the output of a Quarry query (and the accompanying metadata), it is ultimately easier to programatically obtain that output.  \n",
    "\n",
    "Through a combination of reverse engineering Quarry, greatly helped the [open availability of source code for Quarry](https://github.com/wikimedia/analytics-quarry-web), I wrote the following Python functions to obtain the output and to display that output in a Jupyter notebook."
   ]
  },
  {
   "cell_type": "code",
   "execution_count": 4,
   "metadata": {
    "collapsed": false
   },
   "outputs": [],
   "source": [
    "def quarry_result(query_id, rev_id=None, result_format='json'):\n",
    "    \"\"\"\n",
    "    returns a dict {'status', 'output', 'query_meta' 'latest_run', 'latest_rev'} for a query_id on quarry.wmflabs.org\n",
    "    \"\"\"\n",
    "    \n",
    "    BASE_URL = \"http://quarry.wmflabs.org\"\n",
    "    \n",
    "    # get the metadata for the query\n",
    "    # https://github.com/wikimedia/analytics-quarry-web/blob/e2346c5ec47d63f9514b8aef9190211fa5ff0e45/quarry/web/app.py#L402\n",
    "    url = BASE_URL + \"/query/{0}/meta\".format(query_id)\n",
    "    query_meta = requests.get(url).json()\n",
    "    status = query_meta['latest_run']['status']\n",
    "    latest_run_id = query_meta['latest_run']['id']\n",
    "    latest_rev_id = query_meta['latest_rev']['id']\n",
    "    \n",
    "    # if status is 'complete' and return_output is True,\n",
    "    # grab the results -- unless result_format is None\n",
    "    # https://github.com/wikimedia/analytics-quarry-web/blob/e2346c5ec47d63f9514b8aef9190211fa5ff0e45/quarry/web/app.py#L350\n",
    "    \n",
    "    if (status == 'complete' and result_format is not None):\n",
    "        # TO DO: figure out whether 0 should be a variable\n",
    "        # re: https://github.com/wikimedia/analytics-quarry-web/blob/e2346c5ec47d63f9514b8aef9190211fa5ff0e45/quarry/web/app.py#L351\n",
    "        # 0 is default value for resultset_id \n",
    "        url = BASE_URL + \"/run/{0}/output/0/{1}\".format(latest_run_id, result_format)\n",
    "        if result_format == 'json':\n",
    "            output = requests.get(url).json()\n",
    "        else:\n",
    "            output = requests.get(url).text\n",
    "    else:\n",
    "        output = None\n",
    "    \n",
    "    return {'query_meta':query_meta, \n",
    "            'status': status,\n",
    "            'latest_run': latest_run_id,\n",
    "            'latest_rev': latest_rev_id,\n",
    "            'output': output\n",
    "           }\n",
    "    \n",
    "# assume for now latest rev id same as latest run id.\n",
    "# 'status':query_meta[\"status\"]\n",
    "        \n",
    "def display_objs_for_q_result(q):\n",
    "    \"\"\"\n",
    "    returns IPython/Jupyter display object to describe query metadata and SQL content\n",
    "    (first pass)\n",
    "    \"\"\"\n",
    "\n",
    "    description = q['query_meta']['query']['description']\n",
    "    if description is None:\n",
    "        description = \"\"\n",
    "        \n",
    "    return ( HTML(\"<b>{0}</b>\".format(q['query_meta']['query']['title'])),\n",
    "             HTML(\"<p>id: {0} ({1})</p>\".format(q['query_meta']['query']['id'], \n",
    "                                                        q['query_meta']['query']['timestamp'])),\n",
    "             HTML(\"<p>{0}</p>\".format(description)),\n",
    "             Markdown(\"\"\"```sql\\n{0}\\n```\"\"\".format(q['query_meta']['latest_rev']['sql']))\n",
    "            )\n",
    "\n"
   ]
  },
  {
   "cell_type": "markdown",
   "metadata": {},
   "source": [
    "Now to retrieve and display the metadata for the query `3659` <http://quarry.wmflabs.org/query/3659>"
   ]
  },
  {
   "cell_type": "code",
   "execution_count": 5,
   "metadata": {
    "collapsed": false
   },
   "outputs": [
    {
     "data": {
      "text/html": [
       "<b>number of revisions by year for Johann_Sebastian_Bach in enwiki</b>"
      ],
      "text/plain": [
       "<IPython.core.display.HTML object>"
      ]
     },
     "metadata": {},
     "output_type": "display_data"
    },
    {
     "data": {
      "text/html": [
       "<p>id: 3659 (2015-05-30T21:52:15)</p>"
      ],
      "text/plain": [
       "<IPython.core.display.HTML object>"
      ]
     },
     "metadata": {},
     "output_type": "display_data"
    },
    {
     "data": {
      "text/html": [
       "<p>The number of revisions by year for https://en.wikipedia.org/wiki/Johann_Sebastian_Bach</p>"
      ],
      "text/plain": [
       "<IPython.core.display.HTML object>"
      ]
     },
     "metadata": {},
     "output_type": "display_data"
    },
    {
     "data": {
      "text/markdown": [
       "```sql\n",
       "SELECT \n",
       "   YEAR(rev_timestamp), COUNT(rev_timestamp) \n",
       "FROM revision \n",
       "WHERE rev_page = 9906294 # page_id for https://en.wikipedia.org/wiki/Johann_Sebastian_Bach\n",
       "GROUP BY YEAR(rev_timestamp);\n",
       "```"
      ],
      "text/plain": [
       "<IPython.core.display.Markdown object>"
      ]
     },
     "metadata": {},
     "output_type": "display_data"
    }
   ],
   "source": [
    "q = quarry_result(3659, result_format='json')\n",
    "display(*display_objs_for_q_result(q))"
   ]
  },
  {
   "cell_type": "markdown",
   "metadata": {},
   "source": [
    "Show the output from the query"
   ]
  },
  {
   "cell_type": "code",
   "execution_count": 6,
   "metadata": {
    "collapsed": false
   },
   "outputs": [
    {
     "data": {
      "text/plain": [
       "{u'headers': [u'YEAR(rev_timestamp)', u'COUNT(rev_timestamp)'],\n",
       " u'meta': {u'query_id': 3659, u'rev_id': 24189, u'run_id': 24189},\n",
       " u'rows': [[2001, 2],\n",
       "  [2002, 21],\n",
       "  [2003, 58],\n",
       "  [2004, 146],\n",
       "  [2005, 941],\n",
       "  [2006, 1138],\n",
       "  [2007, 1331],\n",
       "  [2008, 282],\n",
       "  [2009, 277],\n",
       "  [2010, 263],\n",
       "  [2011, 224],\n",
       "  [2012, 481],\n",
       "  [2013, 102],\n",
       "  [2014, 328],\n",
       "  [2015, 81]]}"
      ]
     },
     "execution_count": 6,
     "metadata": {},
     "output_type": "execute_result"
    }
   ],
   "source": [
    "q['output']"
   ]
  },
  {
   "cell_type": "markdown",
   "metadata": {},
   "source": [
    "Put the output into a [pandas DataFrame](http://pandas.pydata.org/pandas-docs/dev/generated/pandas.DataFrame.html) "
   ]
  },
  {
   "cell_type": "code",
   "execution_count": 7,
   "metadata": {
    "collapsed": false
   },
   "outputs": [
    {
     "data": {
      "text/html": [
       "<div style=\"max-height:1000px;max-width:1500px;overflow:auto;\">\n",
       "<table border=\"1\" class=\"dataframe\">\n",
       "  <thead>\n",
       "    <tr style=\"text-align: right;\">\n",
       "      <th></th>\n",
       "      <th>count</th>\n",
       "    </tr>\n",
       "    <tr>\n",
       "      <th>year</th>\n",
       "      <th></th>\n",
       "    </tr>\n",
       "  </thead>\n",
       "  <tbody>\n",
       "    <tr>\n",
       "      <th>2001</th>\n",
       "      <td>2</td>\n",
       "    </tr>\n",
       "    <tr>\n",
       "      <th>2002</th>\n",
       "      <td>21</td>\n",
       "    </tr>\n",
       "    <tr>\n",
       "      <th>2003</th>\n",
       "      <td>58</td>\n",
       "    </tr>\n",
       "    <tr>\n",
       "      <th>2004</th>\n",
       "      <td>146</td>\n",
       "    </tr>\n",
       "    <tr>\n",
       "      <th>2005</th>\n",
       "      <td>941</td>\n",
       "    </tr>\n",
       "    <tr>\n",
       "      <th>2006</th>\n",
       "      <td>1138</td>\n",
       "    </tr>\n",
       "    <tr>\n",
       "      <th>2007</th>\n",
       "      <td>1331</td>\n",
       "    </tr>\n",
       "    <tr>\n",
       "      <th>2008</th>\n",
       "      <td>282</td>\n",
       "    </tr>\n",
       "    <tr>\n",
       "      <th>2009</th>\n",
       "      <td>277</td>\n",
       "    </tr>\n",
       "    <tr>\n",
       "      <th>2010</th>\n",
       "      <td>263</td>\n",
       "    </tr>\n",
       "    <tr>\n",
       "      <th>2011</th>\n",
       "      <td>224</td>\n",
       "    </tr>\n",
       "    <tr>\n",
       "      <th>2012</th>\n",
       "      <td>481</td>\n",
       "    </tr>\n",
       "    <tr>\n",
       "      <th>2013</th>\n",
       "      <td>102</td>\n",
       "    </tr>\n",
       "    <tr>\n",
       "      <th>2014</th>\n",
       "      <td>328</td>\n",
       "    </tr>\n",
       "    <tr>\n",
       "      <th>2015</th>\n",
       "      <td>81</td>\n",
       "    </tr>\n",
       "  </tbody>\n",
       "</table>\n",
       "</div>"
      ],
      "text/plain": [
       "      count\n",
       "year       \n",
       "2001      2\n",
       "2002     21\n",
       "2003     58\n",
       "2004    146\n",
       "2005    941\n",
       "2006   1138\n",
       "2007   1331\n",
       "2008    282\n",
       "2009    277\n",
       "2010    263\n",
       "2011    224\n",
       "2012    481\n",
       "2013    102\n",
       "2014    328\n",
       "2015     81"
      ]
     },
     "execution_count": 7,
     "metadata": {},
     "output_type": "execute_result"
    }
   ],
   "source": [
    "df = DataFrame(q['output']['rows'], columns=['year', 'count'])\n",
    "df.set_index(keys='year', inplace=True, drop=True)\n",
    "df"
   ]
  },
  {
   "cell_type": "markdown",
   "metadata": {},
   "source": [
    "Make a bar chart of the revision counts for the Bach article by year"
   ]
  },
  {
   "cell_type": "code",
   "execution_count": 8,
   "metadata": {
    "collapsed": false
   },
   "outputs": [
    {
     "data": {
      "text/plain": [
       "<matplotlib.axes._subplots.AxesSubplot at 0x7f89d6e78850>"
      ]
     },
     "execution_count": 8,
     "metadata": {},
     "output_type": "execute_result"
    },
    {
     "data": {
      "image/png": "[encoded data removed]",
      "text/plain": [
       "<matplotlib.figure.Figure at 0x7f89d6e5aad0>"
      ]
     },
     "metadata": {},
     "output_type": "display_data"
    }
   ],
   "source": [
    "df.plot(kind='bar', title=\"revision counts for JSB article vs year\")"
   ]
  },
  {
   "cell_type": "markdown",
   "metadata": {},
   "source": [
    "This chart alone brings up many questions for future exploration.  Why is there a large amount of activity between 2005 to 2007, followed by a dramatic decrease in 2008?  Did activity in authorship about Bach-related articles decline only for [Johann Sebastian Bach - Wikipedia, the free encyclopedia](http://en.wikipedia.org/wiki/Johann_Sebastian_Bach) alone or was there movement in authorship to related articles?"
   ]
  },
  {
   "cell_type": "markdown",
   "metadata": {},
   "source": [
    "# Getting all queries for a given username"
   ]
  },
  {
   "cell_type": "markdown",
   "metadata": {},
   "source": [
    "The query I wrote about Bach was only one of the queries I wrote on Quarry.  Once I could programmatically retrieve a single query, I wanted to interact with all the queries that I had created. To that end, I wrote `user_queries` to retrieve all the queries for a given user by scraping the profile page for a given user.  For example, <http://quarry.wmflabs.org/RaymondYee> has all the queries for the user `RaymondYee`.\n",
    "\n",
    "(I was hoping that the queries would be available to some type of JSON format, but I couldn't find such a source.  The [source code for Quarry](https://github.com/wikimedia/analytics-quarry-web/blob/e2346c5ec47d63f9514b8aef9190211fa5ff0e45/quarry/web/app.py#L154) confirms my suspicion that I need to scrape the profile page for a given user.)"
   ]
  },
  {
   "cell_type": "code",
   "execution_count": 9,
   "metadata": {
    "collapsed": false
   },
   "outputs": [],
   "source": [
    "# types of queries\n",
    "\n",
    "from collections import OrderedDict\n",
    "\n",
    "query_type_headers = OrderedDict([\n",
    "        ('published', 'Published queries'),\n",
    "        ('draft', 'Draft Queries'),\n",
    "        ('starred', 'Starred Queries')\n",
    "    ])\n",
    "\n",
    "\n",
    "def user_queries(username):\n",
    "    \"\"\"\n",
    "    get all queries for a user\n",
    "    e.g., parse http://quarry.wmflabs.org/RaymondYee\n",
    "    \"\"\"\n",
    "    \n",
    "    url = u\"http://quarry.wmflabs.org/{0}\".format(username)\n",
    "    r = requests.get(url)\n",
    "    page = requests.get(url).content.decode(\"UTF-8\")\n",
    "    doc = fromstring(page)\n",
    "    \n",
    "    # xpath expressions correlate with template\n",
    "    # https://github.com/wikimedia/analytics-quarry-web/blob/e2346c5ec47d63f9514b8aef9190211fa5ff0e45/quarry/web/templates/user.html\n",
    "    \n",
    "    # number of queries\n",
    "    queries = dict()\n",
    "    queries['num_queries'] =int(doc.xpath('//*[@class=\"user-stat\"]/h2/text()')[0])\n",
    "    \n",
    "\n",
    "    # loop through all the query types\n",
    "    for (qtype, qheader) in query_type_headers.items():\n",
    "        q_elements = doc.xpath('//h3[contains(text(),\"{0}\")][1]/following-sibling::ul[1]/li/a'.format(qheader))\n",
    "        q_results = []\n",
    "        for q in q_elements:\n",
    "            q_id = int(q.attrib['href'].split('/')[-1])\n",
    "            #result = quarry_result(q_id, result_format=None)\n",
    "            q_results.append( (q_id, q.text))\n",
    "        queries[qtype] = q_results\n",
    "        \n",
    "    return queries\n",
    "        "
   ]
  },
  {
   "cell_type": "markdown",
   "metadata": {},
   "source": [
    "Let's now retrieve my queries"
   ]
  },
  {
   "cell_type": "code",
   "execution_count": 10,
   "metadata": {
    "collapsed": false
   },
   "outputs": [
    {
     "data": {
      "text/plain": [
       "{'draft': [(3659,\n",
       "   'number of revisions by year for Johann_Sebastian_Bach in enwiki'),\n",
       "  (3664, 'All pages in enwiki with title of Johann_Sebastian_Bach'),\n",
       "  (3651, 'Revision timestamp and length for Johann_Sebastian_Bach in enwiki')],\n",
       " 'num_queries': 38,\n",
       " 'published': [(3701, 'replication lag in enwiki'),\n",
       "  (3754, 'first attempt at recursive grabbing of category tree'),\n",
       "  (3740, 'subcategories and pages under Johann_Sebastian_Bach cat in enwiki'),\n",
       "  (3715, 'term_text for Albany, California in wikidata'),\n",
       "  (3713, 'count of members in user groups in Wikidata'),\n",
       "  (3712, 'user groups and their count in enwiki'),\n",
       "  (3686, 'use site_stats to get overall stats for a wiki'),\n",
       "  (3699, 'distinct namespaces in enwiki pages.'),\n",
       "  (3700, 'list of all databases'),\n",
       "  (3692, 'user_properties for a specified user_name')],\n",
       " 'starred': [(310, 'Highly active new editors'),\n",
       "  (3152, 'Wikidata - given names - frequency of names'),\n",
       "  (3287, 'Wikidata - given names - missing names'),\n",
       "  (3268, 'Orphaned fair use images (en)')]}"
      ]
     },
     "execution_count": 10,
     "metadata": {},
     "output_type": "execute_result"
    }
   ],
   "source": [
    "uq = user_queries('RaymondYee')\n",
    "uq"
   ]
  },
  {
   "cell_type": "markdown",
   "metadata": {},
   "source": [
    "Putting a bit more work, we can make it easier to jump back to the original queries on Quarry."
   ]
  },
  {
   "cell_type": "code",
   "execution_count": 11,
   "metadata": {
    "collapsed": false
   },
   "outputs": [
    {
     "data": {
      "text/html": [
       "<p>number of queries: 38</p><b>Published queries</b><br/><div>3701 <a href='http://quarry.wmflabs.org/query/3701'>replication lag in enwiki</a></div><div>3754 <a href='http://quarry.wmflabs.org/query/3754'>first attempt at recursive grabbing of category tree</a></div><div>3740 <a href='http://quarry.wmflabs.org/query/3740'>subcategories and pages under Johann_Sebastian_Bach cat in enwiki</a></div><div>3715 <a href='http://quarry.wmflabs.org/query/3715'>term_text for Albany, California in wikidata</a></div><div>3713 <a href='http://quarry.wmflabs.org/query/3713'>count of members in user groups in Wikidata</a></div><div>3712 <a href='http://quarry.wmflabs.org/query/3712'>user groups and their count in enwiki</a></div><div>3686 <a href='http://quarry.wmflabs.org/query/3686'>use site_stats to get overall stats for a wiki</a></div><div>3699 <a href='http://quarry.wmflabs.org/query/3699'>distinct namespaces in enwiki pages.</a></div><div>3700 <a href='http://quarry.wmflabs.org/query/3700'>list of all databases</a></div><div>3692 <a href='http://quarry.wmflabs.org/query/3692'>user_properties for a specified user_name</a></div><br/><b>Draft Queries</b><br/><div>3659 <a href='http://quarry.wmflabs.org/query/3659'>number of revisions by year for Johann_Sebastian_Bach in enwiki</a></div><div>3664 <a href='http://quarry.wmflabs.org/query/3664'>All pages in enwiki with title of Johann_Sebastian_Bach</a></div><div>3651 <a href='http://quarry.wmflabs.org/query/3651'>Revision timestamp and length for Johann_Sebastian_Bach in enwiki</a></div><br/><b>Starred Queries</b><br/><div>310 <a href='http://quarry.wmflabs.org/query/310'>Highly active new editors</a></div><div>3152 <a href='http://quarry.wmflabs.org/query/3152'>Wikidata - given names - frequency of names</a></div><div>3287 <a href='http://quarry.wmflabs.org/query/3287'>Wikidata - given names - missing names</a></div><div>3268 <a href='http://quarry.wmflabs.org/query/3268'>Orphaned fair use images (en)</a></div><br/>"
      ],
      "text/plain": [
       "<IPython.core.display.HTML object>"
      ]
     },
     "execution_count": 11,
     "metadata": {},
     "output_type": "execute_result"
    }
   ],
   "source": [
    "queries_display = \"\"\n",
    "queries_display += \"<p>number of queries: {0}</p>\".format(uq['num_queries'] )\n",
    "\n",
    "for (qtype, qheader) in query_type_headers.items():\n",
    "    queries_display += \"<b>{0}</b><br/>\".format(qheader)\n",
    "    for (q_id, q_title) in uq[qtype]:\n",
    "        queries_display += \"<div>{0} <a href='http://quarry.wmflabs.org/query/{0}'>{1}</a></div>\".format(q_id, q_title)\n",
    "    queries_display += \"<br/>\"\n",
    "    \n",
    "HTML(queries_display)"
   ]
  },
  {
   "cell_type": "markdown",
   "metadata": {},
   "source": [
    "We can print out all the SQL for the queries too.  Here's the description and SQL for my published and draft queries."
   ]
  },
  {
   "cell_type": "code",
   "execution_count": 12,
   "metadata": {
    "collapsed": false
   },
   "outputs": [
    {
     "data": {
      "text/html": [
       "<b>replication lag in enwiki</b>"
      ],
      "text/plain": [
       "<IPython.core.display.HTML object>"
      ]
     },
     "metadata": {},
     "output_type": "display_data"
    },
    {
     "data": {
      "text/html": [
       "<p>id: 3701 (2015-05-29T22:32:03)</p>"
      ],
      "text/plain": [
       "<IPython.core.display.HTML object>"
      ]
     },
     "metadata": {},
     "output_type": "display_data"
    },
    {
     "data": {
      "text/html": [
       "<p></p>"
      ],
      "text/plain": [
       "<IPython.core.display.HTML object>"
      ]
     },
     "metadata": {},
     "output_type": "display_data"
    },
    {
     "data": {
      "text/markdown": [
       "```sql\n",
       "USE enwiki_p;\n",
       "\n",
       "SELECT \n",
       "\tUNIX_TIMESTAMP() - UNIX_TIMESTAMP(rc_timestamp) \n",
       "AS\n",
       "\treplication_lag\n",
       "FROM \n",
       "\trecentchanges \n",
       "ORDER BY \n",
       "\trc_timestamp \n",
       "DESC LIMIT 1;\n",
       "```"
      ],
      "text/plain": [
       "<IPython.core.display.Markdown object>"
      ]
     },
     "metadata": {},
     "output_type": "display_data"
    },
    {
     "data": {
      "text/html": [
       "<b>first attempt at recursive grabbing of category tree</b>"
      ],
      "text/plain": [
       "<IPython.core.display.HTML object>"
      ]
     },
     "metadata": {},
     "output_type": "display_data"
    },
    {
     "data": {
      "text/html": [
       "<p>id: 3754 (2015-05-25T04:22:17)</p>"
      ],
      "text/plain": [
       "<IPython.core.display.HTML object>"
      ]
     },
     "metadata": {},
     "output_type": "display_data"
    },
    {
     "data": {
      "text/html": [
       "<p>borrowing approach from http://stackoverflow.com/a/28366310/7782 --> this query didn't recurse -- just grabbed the first level of descendents.</p>"
      ],
      "text/plain": [
       "<IPython.core.display.HTML object>"
      ]
     },
     "metadata": {},
     "output_type": "display_data"
    },
    {
     "data": {
      "text/markdown": [
       "```sql\n",
       "SELECT\n",
       "   GROUP_CONCAT(lv SEPARATOR ',') \n",
       "FROM\n",
       "  (\n",
       "    SELECT\n",
       "        @pv:= (\n",
       "            SELECT\n",
       "                GROUP_CONCAT(from_id SEPARATOR ',')\n",
       "            FROM\n",
       "                (\n",
       "\t\t\t\t\tSELECT \n",
       "\t\t\t\t\t\tcl_from as from_id, p1.page_title as from_title,  p2.page_id as to_id, cl_to as to_title, cl_type\n",
       "\t\t\t\t\tFROM\n",
       "\t\t\t\t\t\tcategorylinks cl JOIN page p1 JOIN page p2\n",
       "\t\t\t\t\tON\n",
       "\t\t\t\t\t\tcl.cl_from = p1.page_id AND cl.cl_to = p2.page_title\n",
       "\t\t\t\t) AS Folder\n",
       "            WHERE\n",
       "                to_id IN (@pv)\n",
       "            )\n",
       "    AS \n",
       "        lv\n",
       "    FROM\n",
       "               (\n",
       "\t\t\t\t\tSELECT \n",
       "\t\t\t\t\t\tcl_from as from_id, p1.page_title as from_title,  p2.page_id as to_id, cl_to as to_title, cl_type\n",
       "\t\t\t\t\tFROM\n",
       "\t\t\t\t\t\tcategorylinks cl JOIN page p1 JOIN page p2\n",
       "\t\t\t\t\tON\n",
       "\t\t\t\t\t\tcl.cl_from = p1.page_id AND cl.cl_to = p2.page_title\n",
       "\t\t\t\t) AS Folder2\n",
       "    JOIN\n",
       "        (SELECT @pv:=(SELECT page_id FROM page WHERE page_title = 'Johann_Sebastian_Bach' AND page_namespace = 14)) tmp\n",
       "    WHERE\n",
       "        to_id IN (@pv)\n",
       "        \n",
       "  ) a;\n",
       "\n",
       "```"
      ],
      "text/plain": [
       "<IPython.core.display.Markdown object>"
      ]
     },
     "metadata": {},
     "output_type": "display_data"
    },
    {
     "data": {
      "text/html": [
       "<b>subcategories and pages under Johann_Sebastian_Bach cat in enwiki</b>"
      ],
      "text/plain": [
       "<IPython.core.display.HTML object>"
      ]
     },
     "metadata": {},
     "output_type": "display_data"
    },
    {
     "data": {
      "text/html": [
       "<p>id: 3740 (2015-05-24T06:21:22)</p>"
      ],
      "text/plain": [
       "<IPython.core.display.HTML object>"
      ]
     },
     "metadata": {},
     "output_type": "display_data"
    },
    {
     "data": {
      "text/html": [
       "<p></p>"
      ],
      "text/plain": [
       "<IPython.core.display.HTML object>"
      ]
     },
     "metadata": {},
     "output_type": "display_data"
    },
    {
     "data": {
      "text/markdown": [
       "```sql\n",
       "SELECT \n",
       "\tcl_from, cl_to, cl_timestamp, cl_type, p1.page_title as from_title, p2.page_id as to_page_id\n",
       "FROM\n",
       "\tcategorylinks cl  JOIN page p1  JOIN page p2\n",
       "ON\n",
       "\tcl.cl_from = p1.page_id AND cl.cl_to = p2.page_title\n",
       "WHERE\n",
       "\tp2.page_title = \"Johann_Sebastian_Bach\" AND p2.page_namespace = 14;\n",
       "```"
      ],
      "text/plain": [
       "<IPython.core.display.Markdown object>"
      ]
     },
     "metadata": {},
     "output_type": "display_data"
    },
    {
     "data": {
      "text/html": [
       "<b>term_text for Albany, California in wikidata</b>"
      ],
      "text/plain": [
       "<IPython.core.display.HTML object>"
      ]
     },
     "metadata": {},
     "output_type": "display_data"
    },
    {
     "data": {
      "text/html": [
       "<p>id: 3715 (2015-05-21T22:51:03)</p>"
      ],
      "text/plain": [
       "<IPython.core.display.HTML object>"
      ]
     },
     "metadata": {},
     "output_type": "display_data"
    },
    {
     "data": {
      "text/html": [
       "<p></p>"
      ],
      "text/plain": [
       "<IPython.core.display.HTML object>"
      ]
     },
     "metadata": {},
     "output_type": "display_data"
    },
    {
     "data": {
      "text/markdown": [
       "```sql\n",
       "USE wikidatawiki_p;\n",
       "\n",
       "SELECT \n",
       "\t*\n",
       "FROM\n",
       "\twb_terms\n",
       "WHERE\n",
       "\tterm_entity_id = '671480'  # Albany,_California\n",
       "```"
      ],
      "text/plain": [
       "<IPython.core.display.Markdown object>"
      ]
     },
     "metadata": {},
     "output_type": "display_data"
    },
    {
     "data": {
      "text/html": [
       "<b>count of members in user groups in Wikidata</b>"
      ],
      "text/plain": [
       "<IPython.core.display.HTML object>"
      ]
     },
     "metadata": {},
     "output_type": "display_data"
    },
    {
     "data": {
      "text/html": [
       "<p>id: 3713 (2015-05-21T21:24:19)</p>"
      ],
      "text/plain": [
       "<IPython.core.display.HTML object>"
      ]
     },
     "metadata": {},
     "output_type": "display_data"
    },
    {
     "data": {
      "text/html": [
       "<p></p>"
      ],
      "text/plain": [
       "<IPython.core.display.HTML object>"
      ]
     },
     "metadata": {},
     "output_type": "display_data"
    },
    {
     "data": {
      "text/markdown": [
       "```sql\n",
       "USE wikidatawiki_p;\n",
       "\n",
       "SELECT \n",
       "\tug_group, COUNT(ug_group)\n",
       "FROM\n",
       "\tuser_groups\n",
       "GROUP BY\n",
       "\tug_group;\n",
       "```"
      ],
      "text/plain": [
       "<IPython.core.display.Markdown object>"
      ]
     },
     "metadata": {},
     "output_type": "display_data"
    },
    {
     "data": {
      "text/html": [
       "<b>user groups and their count in enwiki</b>"
      ],
      "text/plain": [
       "<IPython.core.display.HTML object>"
      ]
     },
     "metadata": {},
     "output_type": "display_data"
    },
    {
     "data": {
      "text/html": [
       "<p>id: 3712 (2015-05-21T21:04:04)</p>"
      ],
      "text/plain": [
       "<IPython.core.display.HTML object>"
      ]
     },
     "metadata": {},
     "output_type": "display_data"
    },
    {
     "data": {
      "text/html": [
       "<p></p>"
      ],
      "text/plain": [
       "<IPython.core.display.HTML object>"
      ]
     },
     "metadata": {},
     "output_type": "display_data"
    },
    {
     "data": {
      "text/markdown": [
       "```sql\n",
       "SELECT \n",
       "\tug_group, COUNT(ug_group)\n",
       "FROM\n",
       "\tuser_groups\n",
       "GROUP BY\n",
       "\tug_group;\n",
       "```"
      ],
      "text/plain": [
       "<IPython.core.display.Markdown object>"
      ]
     },
     "metadata": {},
     "output_type": "display_data"
    },
    {
     "data": {
      "text/html": [
       "<b>use site_stats to get overall stats for a wiki</b>"
      ],
      "text/plain": [
       "<IPython.core.display.HTML object>"
      ]
     },
     "metadata": {},
     "output_type": "display_data"
    },
    {
     "data": {
      "text/html": [
       "<p>id: 3686 (2015-05-20T22:07:36)</p>"
      ],
      "text/plain": [
       "<IPython.core.display.HTML object>"
      ]
     },
     "metadata": {},
     "output_type": "display_data"
    },
    {
     "data": {
      "text/html": [
       "<p></p>"
      ],
      "text/plain": [
       "<IPython.core.display.HTML object>"
      ]
     },
     "metadata": {},
     "output_type": "display_data"
    },
    {
     "data": {
      "text/markdown": [
       "```sql\n",
       "USE enwiki_p;\n",
       "\n",
       "SELECT \n",
       "\t*\n",
       "FROM\n",
       "\tsite_stats;\n",
       "```"
      ],
      "text/plain": [
       "<IPython.core.display.Markdown object>"
      ]
     },
     "metadata": {},
     "output_type": "display_data"
    },
    {
     "data": {
      "text/html": [
       "<b>distinct namespaces in enwiki pages.</b>"
      ],
      "text/plain": [
       "<IPython.core.display.HTML object>"
      ]
     },
     "metadata": {},
     "output_type": "display_data"
    },
    {
     "data": {
      "text/html": [
       "<p>id: 3699 (2015-05-20T21:52:54)</p>"
      ],
      "text/plain": [
       "<IPython.core.display.HTML object>"
      ]
     },
     "metadata": {},
     "output_type": "display_data"
    },
    {
     "data": {
      "text/html": [
       "<p>Interesting to match up with the annotated list in the infobox at https://en.wikipedia.org/wiki/Wikipedia:Namespace</p>"
      ],
      "text/plain": [
       "<IPython.core.display.HTML object>"
      ]
     },
     "metadata": {},
     "output_type": "display_data"
    },
    {
     "data": {
      "text/markdown": [
       "```sql\n",
       "USE enwiki_p;\n",
       "\n",
       "SELECT \n",
       "\tDISTINCT(page_namespace)\n",
       "FROM\n",
       "\tpage;\n",
       "\n",
       "\n",
       "```"
      ],
      "text/plain": [
       "<IPython.core.display.Markdown object>"
      ]
     },
     "metadata": {},
     "output_type": "display_data"
    },
    {
     "data": {
      "text/html": [
       "<b>list of all databases</b>"
      ],
      "text/plain": [
       "<IPython.core.display.HTML object>"
      ]
     },
     "metadata": {},
     "output_type": "display_data"
    },
    {
     "data": {
      "text/html": [
       "<p>id: 3700 (2015-05-20T21:50:56)</p>"
      ],
      "text/plain": [
       "<IPython.core.display.HTML object>"
      ]
     },
     "metadata": {},
     "output_type": "display_data"
    },
    {
     "data": {
      "text/html": [
       "<p></p>"
      ],
      "text/plain": [
       "<IPython.core.display.HTML object>"
      ]
     },
     "metadata": {},
     "output_type": "display_data"
    },
    {
     "data": {
      "text/markdown": [
       "```sql\n",
       "SHOW DATABASES;\n",
       "```"
      ],
      "text/plain": [
       "<IPython.core.display.Markdown object>"
      ]
     },
     "metadata": {},
     "output_type": "display_data"
    },
    {
     "data": {
      "text/html": [
       "<b>user_properties for a specified user_name</b>"
      ],
      "text/plain": [
       "<IPython.core.display.HTML object>"
      ]
     },
     "metadata": {},
     "output_type": "display_data"
    },
    {
     "data": {
      "text/html": [
       "<p>id: 3692 (2015-05-20T19:55:53)</p>"
      ],
      "text/plain": [
       "<IPython.core.display.HTML object>"
      ]
     },
     "metadata": {},
     "output_type": "display_data"
    },
    {
     "data": {
      "text/html": [
       "<p></p>"
      ],
      "text/plain": [
       "<IPython.core.display.HTML object>"
      ]
     },
     "metadata": {},
     "output_type": "display_data"
    },
    {
     "data": {
      "text/markdown": [
       "```sql\n",
       "SET @user_name = 'RaymondYee';\n",
       "\n",
       "\n",
       "\n",
       "USE enwiki_p;\n",
       "\n",
       "SELECT \n",
       "\tu.user_id, u.user_name, u.user_registration, u.user_editcount, up.up_property, up.up_value\n",
       "FROM\n",
       "\tuser u\n",
       "LEFT JOIN\n",
       "    user_properties up\n",
       "ON \n",
       "\tu.user_id = up.up_user\n",
       "WHERE\n",
       "\tu.user_name = @user_name\n",
       "```"
      ],
      "text/plain": [
       "<IPython.core.display.Markdown object>"
      ]
     },
     "metadata": {},
     "output_type": "display_data"
    },
    {
     "data": {
      "text/html": [
       "<b>number of revisions by year for Johann_Sebastian_Bach in enwiki</b>"
      ],
      "text/plain": [
       "<IPython.core.display.HTML object>"
      ]
     },
     "metadata": {},
     "output_type": "display_data"
    },
    {
     "data": {
      "text/html": [
       "<p>id: 3659 (2015-05-30T21:52:15)</p>"
      ],
      "text/plain": [
       "<IPython.core.display.HTML object>"
      ]
     },
     "metadata": {},
     "output_type": "display_data"
    },
    {
     "data": {
      "text/html": [
       "<p>The number of revisions by year for https://en.wikipedia.org/wiki/Johann_Sebastian_Bach</p>"
      ],
      "text/plain": [
       "<IPython.core.display.HTML object>"
      ]
     },
     "metadata": {},
     "output_type": "display_data"
    },
    {
     "data": {
      "text/markdown": [
       "```sql\n",
       "SELECT \n",
       "   YEAR(rev_timestamp), COUNT(rev_timestamp) \n",
       "FROM revision \n",
       "WHERE rev_page = 9906294 # page_id for https://en.wikipedia.org/wiki/Johann_Sebastian_Bach\n",
       "GROUP BY YEAR(rev_timestamp);\n",
       "```"
      ],
      "text/plain": [
       "<IPython.core.display.Markdown object>"
      ]
     },
     "metadata": {},
     "output_type": "display_data"
    },
    {
     "data": {
      "text/html": [
       "<b>All pages in enwiki with title of Johann_Sebastian_Bach</b>"
      ],
      "text/plain": [
       "<IPython.core.display.HTML object>"
      ]
     },
     "metadata": {},
     "output_type": "display_data"
    },
    {
     "data": {
      "text/html": [
       "<p>id: 3664 (2015-05-24T00:24:45)</p>"
      ],
      "text/plain": [
       "<IPython.core.display.HTML object>"
      ]
     },
     "metadata": {},
     "output_type": "display_data"
    },
    {
     "data": {
      "text/html": [
       "<p>One thing I did not appreciate before issuing this query:  the use of page_namespace.  Question:  how to get a list of namespaces?  Answer: https://meta.wikimedia.org/wiki/Meta:Namespaces </p>"
      ],
      "text/plain": [
       "<IPython.core.display.HTML object>"
      ]
     },
     "metadata": {},
     "output_type": "display_data"
    },
    {
     "data": {
      "text/markdown": [
       "```sql\n",
       "USE enwiki_p;\n",
       "\n",
       "\n",
       "SELECT \n",
       "  *\n",
       "FROM \n",
       "  page \n",
       "WHERE\n",
       "  page_title = \"Johann_Sebastian_Bach\";\n",
       "```"
      ],
      "text/plain": [
       "<IPython.core.display.Markdown object>"
      ]
     },
     "metadata": {},
     "output_type": "display_data"
    },
    {
     "data": {
      "text/html": [
       "<b>Revision timestamp and length for Johann_Sebastian_Bach in enwiki</b>"
      ],
      "text/plain": [
       "<IPython.core.display.HTML object>"
      ]
     },
     "metadata": {},
     "output_type": "display_data"
    },
    {
     "data": {
      "text/html": [
       "<p>id: 3651 (2015-05-20T15:12:36)</p>"
      ],
      "text/plain": [
       "<IPython.core.display.HTML object>"
      ]
     },
     "metadata": {},
     "output_type": "display_data"
    },
    {
     "data": {
      "text/html": [
       "<p></p>"
      ],
      "text/plain": [
       "<IPython.core.display.HTML object>"
      ]
     },
     "metadata": {},
     "output_type": "display_data"
    },
    {
     "data": {
      "text/markdown": [
       "```sql\n",
       "select rev_id, rev_timestamp, rev_len from revision where rev_page = 9906294 ORDER BY rev_timestamp ASC;\n",
       "```"
      ],
      "text/plain": [
       "<IPython.core.display.Markdown object>"
      ]
     },
     "metadata": {},
     "output_type": "display_data"
    }
   ],
   "source": [
    "ry_results = [quarry_result(q_id, result_format=None) \n",
    "    for q_id in chain([q_id for (q_id, title) in uq['published']],\n",
    "                      [q_id for (q_id, title) in uq['draft']])\n",
    "              ]\n",
    "\n",
    "# the following way to display the results is a bit opaque and should be rewritten\n",
    "display(*list(chain(*[display_objs_for_q_result(r) for r in ry_results])))"
   ]
  },
  {
   "cell_type": "markdown",
   "metadata": {},
   "source": [
    "One of the next steps I'd want to pursue is to figure out how to programmatically write to Quarry, for example, formulate queries in Python and then send them to Qurray.  As a Wikimedia Lab user, I'd want to be able to move queries between Quarry and the job submission facility on the Labs."
   ]
  },
  {
   "cell_type": "markdown",
   "metadata": {},
   "source": [
    "# Analyzing queries of all Quarry users collectively\n",
    "\n",
    "\n",
    "A major part of the appeal of Quarry is that you are part of a community of users creating queries.  I personally wanted to understand what others are doing on Quarry. \n",
    "\n",
    "To satisfy my curiosity, I decided to scrape the [Recent Queries](http://quarry.wmflabs.org/query/runs/all) page for a list of queries and their creators by writing `runs_list`.  The function `runs_list` will loop all the queries by paging through the entire history available on [Recent Queries](http://quarry.wmflabs.org/query/runs/all).\n"
   ]
  },
  {
   "cell_type": "code",
   "execution_count": 13,
   "metadata": {
    "collapsed": false
   },
   "outputs": [],
   "source": [
    "def anchor_info_or_text(td):\n",
    "    anchors = td.xpath('a')\n",
    "    if anchors:\n",
    "        #if anchor text in form of \"/query/query_id\", return just query_id\n",
    "        href = anchors[0].attrib['href']\n",
    "        query_search = re.search(\"/query/(\\d+)\", href)\n",
    "        if query_search:\n",
    "            return (int(query_search.group(1)), anchors[0].text )\n",
    "        else:\n",
    "            return (href, anchors[0].text )\n",
    "    else:\n",
    "        return td.text\n",
    "    \n",
    "def filter_none(d):\n",
    "    \"\"\"\n",
    "    return dict d without any items with None for value\n",
    "    \"\"\"\n",
    "    return dict([(k,v) for (k,v) in d.items() if v is not None])\n",
    "\n",
    "def runs_list(limit=None, from_=None, _sleep=0):\n",
    "    \"\"\"\n",
    "    Generator for all the queries on http://quarry.wmflabs.org/query/runs/all\n",
    "    \"\"\"\n",
    "    \n",
    "    url = (\"http://quarry.wmflabs.org/query/runs/all?\" +\n",
    "            urlencode(filter_none({'from':from_, 'limit':limit})))    \n",
    "    more_pages = True\n",
    "\n",
    "    while more_pages:\n",
    "\n",
    "        r = requests.get(url)\n",
    "        page = requests.get(url).content.decode(\"UTF-8\")\n",
    "        doc = fromstring(page)\n",
    "\n",
    "        # grab headers\n",
    "        headers = [th.text for th in doc.xpath(\"//th\")]\n",
    "        \n",
    "        # yield rows\n",
    "        for tr in doc.xpath(\"//tr[td]\"):\n",
    "            yield [anchor_info_or_text(td) for td in tr]\n",
    "        \n",
    "        # next link\n",
    "        next_links = doc.xpath('//li[@class=\"next\"]/a')\n",
    "        if next_links:\n",
    "            url = (\"http://quarry.wmflabs.org/query/runs/all?\" +\n",
    "                 next_links[0].attrib['href'])\n",
    "        else:\n",
    "            more_pages = False\n",
    "            \n",
    "        time.sleep(_sleep)\n"
   ]
  },
  {
   "cell_type": "markdown",
   "metadata": {},
   "source": [
    "Let's scrape the pages.  As of 2015-05-30, there are few enough queries for me to practically get all the pages returned by Quarry."
   ]
  },
  {
   "cell_type": "code",
   "execution_count": 14,
   "metadata": {
    "collapsed": false
   },
   "outputs": [
    {
     "name": "stdout",
     "output_type": "stream",
     "text": [
      "time of analysis: 2015-05-31T01:27:21.873294 \n",
      "\n",
      " 3549"
     ]
    }
   ],
   "source": [
    "print (\"time of analysis:\", datetime.datetime.utcnow().isoformat(), \"\\n\")\n",
    "queries = []\n",
    "\n",
    "# loop and print out which row we're on\n",
    "\n",
    "for (i, item) in enumerate(islice(runs_list(_sleep=0.5), None)):\n",
    "    print(\"\\r {0}\".format(i), end=\"\")\n",
    "    queries.append( (item[0][0], item[0][1], item[1][1], item[2], item[3]))"
   ]
  },
  {
   "cell_type": "markdown",
   "metadata": {},
   "source": [
    "Display the last five results"
   ]
  },
  {
   "cell_type": "code",
   "execution_count": 15,
   "metadata": {
    "collapsed": false
   },
   "outputs": [
    {
     "data": {
      "text/html": [
       "<div style=\"max-height:1000px;max-width:1500px;overflow:auto;\">\n",
       "<table border=\"1\" class=\"dataframe\">\n",
       "  <thead>\n",
       "    <tr style=\"text-align: right;\">\n",
       "      <th></th>\n",
       "      <th>id</th>\n",
       "      <th>title</th>\n",
       "      <th>creator</th>\n",
       "      <th>status</th>\n",
       "      <th>time</th>\n",
       "    </tr>\n",
       "  </thead>\n",
       "  <tbody>\n",
       "    <tr>\n",
       "      <th>3545</th>\n",
       "      <td>3762</td>\n",
       "      <td>phab:T100248</td>\n",
       "      <td>Peter Bowman</td>\n",
       "      <td>complete</td>\n",
       "      <td>5 days ago</td>\n",
       "    </tr>\n",
       "    <tr>\n",
       "      <th>3546</th>\n",
       "      <td>3760</td>\n",
       "      <td>Untitled query #3760</td>\n",
       "      <td>Huji</td>\n",
       "      <td>complete</td>\n",
       "      <td>6 days ago</td>\n",
       "    </tr>\n",
       "    <tr>\n",
       "      <th>3547</th>\n",
       "      <td>3758</td>\n",
       "      <td>Untitled query #3758</td>\n",
       "      <td>Huji</td>\n",
       "      <td>failed</td>\n",
       "      <td>6 days ago</td>\n",
       "    </tr>\n",
       "    <tr>\n",
       "      <th>3548</th>\n",
       "      <td>3756</td>\n",
       "      <td>Untitled query #3756</td>\n",
       "      <td>RaymondYee</td>\n",
       "      <td>complete</td>\n",
       "      <td>6 days ago</td>\n",
       "    </tr>\n",
       "    <tr>\n",
       "      <th>3549</th>\n",
       "      <td>3754</td>\n",
       "      <td>first attempt at recursive grabbing of categor...</td>\n",
       "      <td>RaymondYee</td>\n",
       "      <td>complete</td>\n",
       "      <td>6 days ago</td>\n",
       "    </tr>\n",
       "  </tbody>\n",
       "</table>\n",
       "</div>"
      ],
      "text/plain": [
       "        id                                              title       creator  \\\n",
       "3545  3762                                       phab:T100248  Peter Bowman   \n",
       "3546  3760                               Untitled query #3760          Huji   \n",
       "3547  3758                               Untitled query #3758          Huji   \n",
       "3548  3756                               Untitled query #3756    RaymondYee   \n",
       "3549  3754  first attempt at recursive grabbing of categor...    RaymondYee   \n",
       "\n",
       "        status        time  \n",
       "3545  complete  5 days ago  \n",
       "3546  complete  6 days ago  \n",
       "3547    failed  6 days ago  \n",
       "3548  complete  6 days ago  \n",
       "3549  complete  6 days ago  "
      ]
     },
     "execution_count": 15,
     "metadata": {},
     "output_type": "execute_result"
    }
   ],
   "source": [
    "df = DataFrame(queries, columns=['id', 'title', 'creator','status', 'time'])\n",
    "df.tail()"
   ]
  },
  {
   "cell_type": "markdown",
   "metadata": {},
   "source": [
    "How many queries records belong to me?"
   ]
  },
  {
   "cell_type": "code",
   "execution_count": 16,
   "metadata": {
    "collapsed": false
   },
   "outputs": [
    {
     "data": {
      "text/plain": [
       "555"
      ]
     },
     "execution_count": 16,
     "metadata": {},
     "output_type": "execute_result"
    }
   ],
   "source": [
    "len(df[df.creator=='RaymondYee'])"
   ]
  },
  {
   "cell_type": "markdown",
   "metadata": {},
   "source": [
    "How many unique query identifiers and creators are there in the data set?"
   ]
  },
  {
   "cell_type": "code",
   "execution_count": 17,
   "metadata": {
    "collapsed": false
   },
   "outputs": [
    {
     "data": {
      "text/plain": [
       "(200, 57)"
      ]
     },
     "execution_count": 17,
     "metadata": {},
     "output_type": "execute_result"
    }
   ],
   "source": [
    "# how many unique ids\n",
    "\n",
    "len(df.id.unique()), len(df.creator.unique())"
   ]
  },
  {
   "cell_type": "markdown",
   "metadata": {},
   "source": [
    "I am surprised such a small number of unique queries.  It's possible my code has a bug that causes me to miss many queries.  Alternative, Quarry might only return a limited selection.  (*To figure out.*)"
   ]
  },
  {
   "cell_type": "code",
   "execution_count": 18,
   "metadata": {
    "collapsed": false
   },
   "outputs": [
    {
     "name": "stdout",
     "output_type": "stream",
     "text": [
      " 56"
     ]
    }
   ],
   "source": [
    "# loop through users to accumlate data on all user queries\n",
    "# on the way to computing most starred query\n",
    "\n",
    "queries_by_user = dict()\n",
    "\n",
    "for (i, username) in enumerate(islice(df.creator.unique(),None)):\n",
    "    print (\"\\r {0}\".format(i), end=\"\")\n",
    "    queries_by_user[username] = user_queries(username)"
   ]
  },
  {
   "cell_type": "markdown",
   "metadata": {},
   "source": [
    "Now let's compute the queries that have been starred by others and the number of stars they have received."
   ]
  },
  {
   "cell_type": "code",
   "execution_count": 19,
   "metadata": {
    "collapsed": false
   },
   "outputs": [
    {
     "data": {
      "text/html": [
       "<div><a href='http://quarry.wmflabs.org/query/739'>Wikidata tables</a>: 2</div><div><a href='http://quarry.wmflabs.org/query/1190'>List all allowed language codes in wikidata</a>: 2</div><div><a href='http://quarry.wmflabs.org/query/3287'>Wikidata - given names - missing names</a>: 2</div><div><a href='http://quarry.wmflabs.org/query/3268'>Orphaned fair use images (en)</a>: 1</div><div><a href='http://quarry.wmflabs.org/query/744'>Wikidata database items</a>: 1</div><div><a href='http://quarry.wmflabs.org/query/1240'>Wikidata - describe table wb_property_info</a>: 1</div><div><a href='http://quarry.wmflabs.org/query/482'>Wikidata items with sitelinks to Commons pages on Commons (formatted)</a>: 1</div><div><a href='http://quarry.wmflabs.org/query/1255'>Wikidata descriptions consisting only of one character (all languages)</a>: 1</div><div><a href='http://quarry.wmflabs.org/query/3718'>Links to mobile</a>: 1</div><div><a href='http://quarry.wmflabs.org/query/1621'>None</a>: 1</div><div><a href='http://quarry.wmflabs.org/query/2013'>Patrollers on Wikidata</a>: 1</div><div><a href='http://quarry.wmflabs.org/query/2525'>Wikidata properties missing in summary table</a>: 1</div><div><a href='http://quarry.wmflabs.org/query/2969'>None</a>: 1</div><div><a href='http://quarry.wmflabs.org/query/2694'>Wikidata properties without report</a>: 1</div><div><a href='http://quarry.wmflabs.org/query/278'>Show all queriable public databases</a>: 1</div><div><a href='http://quarry.wmflabs.org/query/1248'>Wikidata - list of properties (English labels)</a>: 1</div><div><a href='http://quarry.wmflabs.org/query/493'>Wikidata items with sitelinks to Commons pages on Commons (count)</a>: 1</div><div><a href='http://quarry.wmflabs.org/query/1341'>Czech labels to be replaced in Wikidata</a>: 1</div><div><a href='http://quarry.wmflabs.org/query/1279'>Why did you delete these items?</a>: 1</div><div><a href='http://quarry.wmflabs.org/query/2510'>Hewiki suspicious pages in wikipedia namespace</a>: 1</div><div><a href='http://quarry.wmflabs.org/query/3152'>Wikidata - given names - frequency of names</a>: 1</div><div><a href='http://quarry.wmflabs.org/query/2839'>Deletions per month at wikidata</a>: 1</div><div><a href='http://quarry.wmflabs.org/query/1237'>Wikidata - wb_terms - sample data (items with en labels)</a>: 1</div><div><a href='http://quarry.wmflabs.org/query/310'>Highly active new editors</a>: 1</div><div><a href='http://quarry.wmflabs.org/query/1778'>Ranked Article Activity</a>: 1</div><div><a href='http://quarry.wmflabs.org/query/437'>Show WMF, WMDE, WMSE ... etc users</a>: 1</div>"
      ],
      "text/plain": [
       "<IPython.core.display.HTML object>"
      ]
     },
     "execution_count": 19,
     "metadata": {},
     "output_type": "execute_result"
    }
   ],
   "source": [
    "# let's look at what starred\n",
    "\n",
    "starred_q = Counter()\n",
    "\n",
    "for (u, d) in queries_by_user.items():\n",
    "    for q in d['starred']:\n",
    "        starred_q.update([q])    \n",
    "\n",
    "starred_q_display = \"\"\n",
    "\n",
    "for (q, count) in starred_q.most_common():\n",
    "    starred_q_display += \"<div><a href='http://quarry.wmflabs.org/query/{0}'>{1}</a>: {2}</div>\".format(q[0],q[1],count)\n",
    "\n",
    "HTML(starred_q_display)"
   ]
  },
  {
   "cell_type": "markdown",
   "metadata": {},
   "source": [
    "# Some Next Steps\n",
    "\n",
    "There are lot of other aspects of Quarry to explore, not to mention the Wikimedia databases themselves!  Some ideas are:\n",
    "\n",
    "* compare SQL code among all the queries.  What queries are similar to each other?\n",
    "* write Python functions to write jobs directly to Quarry.\n",
    "* move jobs between Quarry and the job submission system on the Wikimedia Labs"
   ]
  },
  {
   "cell_type": "code",
   "execution_count": null,
   "metadata": {
    "collapsed": true
   },
   "outputs": [],
   "source": []
  }
 ],
 "metadata": {
  "kernelspec": {
   "display_name": "Python 2",
   "language": "python",
   "name": "python2"
  },
  "language_info": {
   "codemirror_mode": {
    "name": "ipython",
    "version": 2
   },
   "file_extension": ".py",
   "mimetype": "text/x-python",
   "name": "python",
   "nbconvert_exporter": "python",
   "pygments_lexer": "ipython2",
   "version": "2.7.6"
  }
 },
 "nbformat": 4,
 "nbformat_minor": 0
}
