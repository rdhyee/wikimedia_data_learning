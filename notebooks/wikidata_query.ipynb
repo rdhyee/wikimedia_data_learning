{
 "cells": [
  {
   "cell_type": "markdown",
   "metadata": {},
   "source": [
    "https://commons.wikimedia.org/wiki/File:Wikidata%27s_SPARQL_introduction_presentation.pdf: SPARQL tutorial\n",
    "\n",
    "[Wikibase/Indexing/SPARQL Query Examples - MediaWiki](https://www.mediawiki.org/wiki/Wikibase/Indexing/SPARQL_Query_Examples)\n",
    "\n",
    "[Category:Wikidata videos - Wikimedia Commons](https://commons.wikimedia.org/wiki/Category:Wikidata_videos)\n",
    "\n",
    "[SPARQLQueriesForStatistics - void-impl - Collection of SPARQL queries for computing voiD statistics - voiD vocabulary and implementations - Google Project Hosting](https://code.google.com/p/void-impl/wiki/SPARQLQueriesForStatistics)"
   ]
  },
  {
   "cell_type": "markdown",
   "metadata": {},
   "source": [
    "Return all items, which are instance of human, limited to 200 items:\n",
    "\n",
    "```sparql\n",
    "PREFIX wd: <http://www.wikidata.org/entity/>\n",
    "PREFIX wdt: <http://www.wikidata.org/prop/direct/>\n",
    "SELECT ?subject WHERE { ?subject wdt:P31 wd:Q5 . } LIMIT 200\n",
    "```"
   ]
  },
  {
   "cell_type": "markdown",
   "metadata": {},
   "source": [
    "# how to count humans in wikidata\n",
    "\n",
    "\n",
    "[query](https://tinyurl.com/kaz83el) for\n",
    "\n",
    "?subject | [P31: instance of](https://www.wikidata.org/wiki/Property:P31) | [Q5:human](https://www.wikidata.org/wiki/Q5):\n",
    "\n",
    "```sparql\n",
    "PREFIX wd: <http://www.wikidata.org/entity/>\n",
    "PREFIX wdt: <http://www.wikidata.org/prop/direct/>\n",
    "SELECT (COUNT(*) AS ?count)\n",
    "WHERE {\n",
    "   ?subject wdt:P31 wd:Q5 . \n",
    "}\n",
    "```\n",
    "\n"
   ]
  }
 ],
 "metadata": {
  "kernelspec": {
   "display_name": "Python 3 (ipykernel)",
   "language": "python",
   "name": "python3"
  },
  "language_info": {
   "codemirror_mode": {
    "name": "ipython",
    "version": 3
   },
   "file_extension": ".py",
   "mimetype": "text/x-python",
   "name": "python",
   "nbconvert_exporter": "python",
   "pygments_lexer": "ipython3",
   "version": "3.10.9"
  }
 },
 "nbformat": 4,
 "nbformat_minor": 4
}
